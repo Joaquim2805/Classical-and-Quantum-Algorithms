{
 "cells": [
  {
   "cell_type": "markdown",
   "metadata": {},
   "source": [
    "# IT41 Practical Session 2  - Time complexity of algorithms\n",
    "\n",
    "---\n",
    "\n",
    "\n",
    "\n",
    "In this practical session we will illustrate the concept of time complexity and running time of algorithms that we discussed in class or in rectitation.\n",
    "\n",
    "<table style=\"background: white;\">\n",
    "    <tr style=\"background: white;\">\n",
    "        <td> <img src='img/bigO.jpeg'  width=\"440px\" />    \n",
    "    </tr>\n",
    "</table>\n",
    "\n",
    "Recall that the time complexity of an algorithm is a measure of the number of elementary operations done during the execution of the algorithm. By considering the asymptotic behavior of the running time one obtains a tool to define classes of algorithms in terms of their (asymptotic) efficiency.\n",
    "\n",
    "<table style=\"background: white;\">\n",
    "    <tr style=\"background: white;\">\n",
    "        <td> <img src='img/classes.png'  width=\"440px\" />    \n",
    "    </tr>\n",
    "</table>\n"
   ]
  },
  {
   "cell_type": "markdown",
   "metadata": {},
   "source": [
    "\n",
    "---\n",
    "\n",
    "## Time Complexity\n",
    "Let's illustrate the different classes of complexity class trough some examples of algorithms. We will measure the time execution of several algorithms by using the following code\n",
    "\n",
    "```Python\n",
    "import time\n",
    "main()\n",
    "print(\"---%s seconds ---\" % (time.time() - start_time))\n",
    "```\n",
    "\n",
    "### Constant complexity\n",
    "An algorithm with class of complexity $\\Theta(1)$ has a running time that does not depend on the size of the input data.\n",
    "```Python\n",
    "import time\n",
    "def print_first_element(T):\n",
    "     start_time = time.time()\n",
    "     print(T[0])\n",
    "     print(\"--- %s seconds ---\" % (time.time() - start_time))\n",
    "    ```\n",
    "The running time will be identical no matter what the size of $T$ is.\n",
    "Try this code with different choices of array $T$.\n",
    "   "
   ]
  },
  {
   "cell_type": "code",
   "execution_count": 1,
   "metadata": {},
   "outputs": [
    {
     "name": "stdout",
     "output_type": "stream",
     "text": [
      "1\n",
      "--- 0.0 seconds ---\n",
      "25\n",
      "--- 0.0 seconds ---\n"
     ]
    }
   ],
   "source": [
    "import time\n",
    "def print_first_element(T):\n",
    "     start_time = time.time()\n",
    "     print(T[0])\n",
    "     print(\"--- %s seconds ---\" % (time.time() - start_time))\n",
    "\n",
    "A = [1,2,3,4]\n",
    "B = list(range(25,100))\n",
    "\n",
    "print_first_element(A)\n",
    "print_first_element(B)"
   ]
  },
  {
   "attachments": {},
   "cell_type": "markdown",
   "metadata": {},
   "source": [
    "To test and compare the following algorithms, you will need to produce random large arrays of integers.\n",
    "\n",
    "The following two codes could be useful to generate those arrays.\n",
    "```Python\n",
    "def createRandomSortedList(num, start = 1, end = 100): \n",
    "    arr = [] \n",
    "    tmp = random.randint(start, end) \n",
    "      \n",
    "    for x in range(num): \n",
    "          \n",
    "        while tmp in arr: \n",
    "            tmp = random.randint(start, end) \n",
    "              \n",
    "        arr.append(tmp) \n",
    "          \n",
    "    arr.sort() \n",
    "      \n",
    "    return arr \n",
    "```\n",
    "```Python\n",
    "def createRandomUnSortedList(num, start = 1, end = 100): \n",
    "    arr = [] \n",
    "    tmp = random.randint(start, end) \n",
    "      \n",
    "    for x in range(num): \n",
    "          \n",
    "        while tmp in arr: \n",
    "            tmp = random.randint(start, end) \n",
    "              \n",
    "        arr.append(tmp) \n",
    "      \n",
    "    return arr \n",
    "```\n"
   ]
  },
  {
   "cell_type": "code",
   "execution_count": 2,
   "metadata": {},
   "outputs": [],
   "source": [
    "import random\n",
    "\n",
    "def createRandomSortedList(num, start = 1, end = 100): \n",
    "    arr = [] \n",
    "    tmp = random.randint(start, end) \n",
    "      \n",
    "    for x in range(num): \n",
    "          \n",
    "        while tmp in arr: \n",
    "            tmp = random.randint(start, end) \n",
    "              \n",
    "        arr.append(tmp) \n",
    "          \n",
    "    arr.sort() \n",
    "      \n",
    "    return arr \n",
    "\n",
    "def createRandomUnSortedList(num, start = 1, end = 100): \n",
    "    arr = [] \n",
    "    tmp = random.randint(start, end) \n",
    "      \n",
    "    for x in range(num): \n",
    "          \n",
    "        while tmp in arr: \n",
    "            tmp = random.randint(start, end) \n",
    "              \n",
    "        arr.append(tmp) \n",
    "      \n",
    "    return arr \n"
   ]
  },
  {
   "cell_type": "markdown",
   "metadata": {},
   "source": [
    "### Logarithmic complexity\n",
    "\n",
    "An algorithm which has a complexity in $\\Theta(\\ln(n))$ does not explore the full size of the input data to solve the problem. Typically the $\\ln(n)$ term indicates that the size of the input date is  probably reduced all along the algorithm (like in the Bisection algorithm in Practical Session 1).\n",
    "Let us consider the following binary search algorithm.\n",
    "\n",
    "```Python\n",
    "def binary_search(data, value):\n",
    "    n = len(data)\n",
    "    left = 0\n",
    "    right = n - 1\n",
    "    while left <= right:\n",
    "        middle = (left + right) // 2\n",
    "        if value < data[middle]:\n",
    "            right = middle - 1\n",
    "        elif value > data[middle]:\n",
    "            left = middle + 1\n",
    "        else:\n",
    "            return middle\n",
    "```\n",
    "Check that this algorithm is solving the problem: find 'value' in a sorted array 'data'.\n",
    "\n",
    "Write an other algoritm which looks for 'value' in 'data' by accessing linearly all values of 'data'. What is the complexity of this second algorithm ?\n",
    "\n",
    "Compare the excecution time of both algorithms on a selection of sorted array of increasing size. "
   ]
  },
  {
   "cell_type": "code",
   "execution_count": 3,
   "metadata": {},
   "outputs": [
    {
     "name": "stdout",
     "output_type": "stream",
     "text": [
      "58\n",
      "58\n"
     ]
    }
   ],
   "source": [
    "def binary_search(data, value):\n",
    "    n = len(data)\n",
    "    left = 0\n",
    "    right = n - 1\n",
    "    while left <= right:\n",
    "        middle = (left + right) // 2\n",
    "        if value < data[middle]:\n",
    "            right = middle - 1\n",
    "        elif value > data[middle]:\n",
    "            left = middle + 1\n",
    "        else:\n",
    "            return middle\n",
    "\n",
    "def binary_search_linear(data,value):\n",
    "    for k in range (len(data)):\n",
    "        if (k == value):\n",
    "            return k\n",
    "\n",
    "A = list(range(0,100))\n",
    "\n",
    "print(binary_search(A,58))\n",
    "print(binary_search_linear(A,58))"
   ]
  },
  {
   "cell_type": "code",
   "execution_count": 4,
   "metadata": {},
   "outputs": [],
   "source": [
    "\n",
    "Z = list(range(1,20000000))"
   ]
  },
  {
   "cell_type": "code",
   "execution_count": 5,
   "metadata": {},
   "outputs": [
    {
     "name": "stdout",
     "output_type": "stream",
     "text": [
      "895487\n"
     ]
    },
    {
     "data": {
      "text/plain": [
       "0.0"
      ]
     },
     "execution_count": 5,
     "metadata": {},
     "output_type": "execute_result"
    }
   ],
   "source": [
    "\n",
    "random_index = random.randint(0,len(Z)-1)\n",
    "print(random_index)\n",
    "start_time = time.time()\n",
    "binary_search(Z, Z[random_index])\n",
    "final = time.time()-start_time\n",
    "final"
   ]
  },
  {
   "cell_type": "code",
   "execution_count": 6,
   "metadata": {},
   "outputs": [
    {
     "data": {
      "text/plain": [
       "0.00397038459777832"
      ]
     },
     "execution_count": 6,
     "metadata": {},
     "output_type": "execute_result"
    }
   ],
   "source": [
    "s= 100000\n",
    "n = s+15000\n",
    "\n",
    "log_time = []\n",
    "for k in range(s,n):\n",
    "    #A = createRandomSortedList(k)\n",
    "    B = list(range(1,k))\n",
    "    random_index = random.randint(0,len(B)-1)\n",
    "    start_time = time.time()\n",
    "    binary_search(B, B[random_index])\n",
    "    final = time.time()-start_time\n",
    "    log_time.append(final)\n",
    "\n",
    "max(log_time)\n"
   ]
  },
  {
   "cell_type": "code",
   "execution_count": 7,
   "metadata": {},
   "outputs": [
    {
     "data": {
      "text/plain": [
       "0.00397038459777832"
      ]
     },
     "execution_count": 7,
     "metadata": {},
     "output_type": "execute_result"
    }
   ],
   "source": [
    "\n",
    "lin_time = []\n",
    "for k in range(s,n):\n",
    "    #A = createRandomSortedList(k)\n",
    "    B = list(range(1,k))\n",
    "    random_index = random.randint(0,len(B)-1)\n",
    "    start_time = time.time()\n",
    "    binary_search_linear(B, B[random_index])\n",
    "    final = time.time()-start_time\n",
    "    lin_time.append(final)\n",
    "\n",
    "max(log_time)"
   ]
  },
  {
   "cell_type": "code",
   "execution_count": 8,
   "metadata": {},
   "outputs": [
    {
     "name": "stdout",
     "output_type": "stream",
     "text": [
      "Log complexity max time : 0.00397038459777832\n",
      "Linear complexity max time : 0.025181293487548828\n"
     ]
    }
   ],
   "source": [
    "print(\"Log complexity max time :\",max(log_time))\n",
    "print(\"Linear complexity max time :\",max(lin_time))"
   ]
  },
  {
   "cell_type": "code",
   "execution_count": 9,
   "metadata": {},
   "outputs": [
    {
     "name": "stdout",
     "output_type": "stream",
     "text": [
      "15000\n",
      "x : 15000\n"
     ]
    },
    {
     "data": {
      "text/plain": [
       "Text(0, 0.5, 'Execution time in sec')"
      ]
     },
     "execution_count": 9,
     "metadata": {},
     "output_type": "execute_result"
    },
    {
     "data": {
      "image/png": "[encoded data removed]",
      "text/plain": [
       "<Figure size 640x480 with 1 Axes>"
      ]
     },
     "metadata": {},
     "output_type": "display_data"
    }
   ],
   "source": [
    "import matplotlib.pyplot as plt\n",
    "import numpy as np\n",
    "\n",
    "x = np.linspace(s,n,15000)\n",
    "print(len(log_time))\n",
    "print(\"x :\",len(x))\n",
    "\n",
    "\n",
    "plt.plot(x, lin_time)\n",
    "\n",
    "plt.xlabel('Size of the array')\n",
    "plt.ylabel('Execution time in sec')"
   ]
  },
  {
   "cell_type": "code",
   "execution_count": 10,
   "metadata": {},
   "outputs": [
    {
     "data": {
      "text/plain": [
       "Text(0, 0.5, 'Execution time in sec')"
      ]
     },
     "execution_count": 10,
     "metadata": {},
     "output_type": "execute_result"
    },
    {
     "data": {
      "image/png": "[encoded data removed]",
      "text/plain": [
       "<Figure size 640x480 with 1 Axes>"
      ]
     },
     "metadata": {},
     "output_type": "display_data"
    }
   ],
   "source": [
    "plt.plot(x,log_time)\n",
    "plt.xlabel('Size of the array')\n",
    "plt.ylabel('Execution time in sec')"
   ]
  },
  {
   "cell_type": "markdown",
   "metadata": {},
   "source": [
    "### Linear complexity\n",
    "\n",
    "Algorithms with a linear complexity are the best ones when the solution of your problem requires to examine all the values of your input data. This is the case of the linear seach of the previous question when you applied it to an unsorted array. "
   ]
  },
  {
   "cell_type": "code",
   "execution_count": null,
   "metadata": {},
   "outputs": [],
   "source": []
  },
  {
   "cell_type": "markdown",
   "metadata": {},
   "source": [
    "### Quasilinear complexity\n",
    "\n",
    "Implement Merge sort algortihm and test its running time for random arrays of increasing size"
   ]
  },
  {
   "cell_type": "code",
   "execution_count": 11,
   "metadata": {},
   "outputs": [],
   "source": [
    "def merge_sort(arr):\n",
    "    if len(arr) <= 1:\n",
    "        return arr\n",
    "    mid = len(arr) // 2\n",
    "    left_half = arr[:mid]\n",
    "    right_half = arr[mid:]\n",
    "\n",
    "    left_half = merge_sort(left_half)\n",
    "    right_half = merge_sort(right_half)\n",
    "\n",
    "    return merge(left_half, right_half)\n",
    "\n",
    "def merge(left_half, right_half):\n",
    "    result = []\n",
    "    i = j = 0\n",
    "    while i < len(left_half) and j < len(right_half):\n",
    "        if left_half[i] < right_half[j]:\n",
    "            result.append(left_half[i])\n",
    "            i += 1\n",
    "        else:\n",
    "            result.append(right_half[j])\n",
    "            j += 1\n",
    "\n",
    "    result += left_half[i:]\n",
    "    result += right_half[j:]\n",
    "\n",
    "    return result"
   ]
  },
  {
   "cell_type": "code",
   "execution_count": 12,
   "metadata": {},
   "outputs": [],
   "source": [
    "def random_list(n, a, b):\n",
    "    return [random.randint(a, b) for _ in range(n)]\n"
   ]
  },
  {
   "cell_type": "code",
   "execution_count": 13,
   "metadata": {},
   "outputs": [
    {
     "name": "stdout",
     "output_type": "stream",
     "text": [
      "[14, 18, 18, 27, 27, 59, 64, 67, 69, 74, 77, 86, 87, 94, 95]\n"
     ]
    }
   ],
   "source": [
    "my_list = random_list(15,1,100)\n",
    "print(merge_sort(my_list))"
   ]
  },
  {
   "cell_type": "code",
   "execution_count": null,
   "metadata": {},
   "outputs": [],
   "source": []
  },
  {
   "cell_type": "code",
   "execution_count": 14,
   "metadata": {},
   "outputs": [
    {
     "data": {
      "text/plain": [
       "Text(0, 0.5, 'Execution time in sec')"
      ]
     },
     "execution_count": 14,
     "metadata": {},
     "output_type": "execute_result"
    },
    {
     "data": {
      "image/png": "[encoded data removed]",
      "text/plain": [
       "<Figure size 640x480 with 1 Axes>"
      ]
     },
     "metadata": {},
     "output_type": "display_data"
    }
   ],
   "source": [
    "merge_time = []\n",
    "s = 1\n",
    "n = s + 2000\n",
    "\n",
    "for k in range(s,n):\n",
    "    A = random_list(k,1,10000)\n",
    "\n",
    "\n",
    "    start_time = time.time()\n",
    "    merge_sort(A)\n",
    "    final = time.time()-start_time\n",
    "    merge_time.append(final)\n",
    "\n",
    "\n",
    "\n",
    "x = list(range(s,n))\n",
    "\n",
    "plt.plot(x,merge_time)\n",
    "plt.xlabel('Size of the array')\n",
    "plt.ylabel('Execution time in sec')"
   ]
  },
  {
   "cell_type": "markdown",
   "metadata": {},
   "source": [
    "### Polynomial complexity\n",
    "\n",
    "Implement the section sort algorithm as seen in class and test its running time for random arrays of increasing size. For which size of arrays is Merge sort more efficient that Section sort ? \n"
   ]
  },
  {
   "cell_type": "code",
   "execution_count": 15,
   "metadata": {},
   "outputs": [],
   "source": [
    "def section_sort(A):\n",
    "    \n",
    "    for i in range(0,len(A)):\n",
    "        min = i\n",
    "        for j in range(i+1,len(A)):\n",
    "            if A[j] < A[min]:\n",
    "                min = j\n",
    "        tmp = A[i]\n",
    "        A[i] = A[min]\n",
    "        A[min] = tmp\n",
    "    return A\n"
   ]
  },
  {
   "cell_type": "code",
   "execution_count": 16,
   "metadata": {},
   "outputs": [
    {
     "name": "stdout",
     "output_type": "stream",
     "text": [
      "[21, 30, 32, 32, 40, 58, 63, 74, 74, 83, 84, 89, 92, 96, 98]\n"
     ]
    }
   ],
   "source": [
    "my_list = random_list(15,1,100)\n",
    "print(section_sort(my_list))"
   ]
  },
  {
   "cell_type": "code",
   "execution_count": 17,
   "metadata": {},
   "outputs": [
    {
     "data": {
      "text/plain": [
       "Text(0, 0.5, 'Execution time in sec')"
      ]
     },
     "execution_count": 17,
     "metadata": {},
     "output_type": "execute_result"
    },
    {
     "data": {
      "image/png": "[encoded data removed]",
      "text/plain": [
       "<Figure size 640x480 with 1 Axes>"
      ]
     },
     "metadata": {},
     "output_type": "display_data"
    }
   ],
   "source": [
    "section_time = []\n",
    "s = 1\n",
    "n = s + 800\n",
    "\n",
    "for k in range(s,n):\n",
    "    A = random_list(k,1,10000)\n",
    "\n",
    "\n",
    "    start_time = time.time()\n",
    "    section_sort(A)\n",
    "    final = time.time()-start_time\n",
    "    section_time.append(final)\n",
    "\n",
    "\n",
    "\n",
    "x = list(range(s,n))\n",
    "\n",
    "plt.plot(x,section_time)\n",
    "plt.xlabel('Size of the array')\n",
    "plt.ylabel('Execution time in sec')"
   ]
  },
  {
   "cell_type": "markdown",
   "metadata": {},
   "source": [
    "### Exponential complexity\n",
    "\n",
    "Implement the recursive version of the Fibonacci sequence. Determine its complexity and test its running time for some increasing value of $n$."
   ]
  },
  {
   "cell_type": "code",
   "execution_count": 18,
   "metadata": {},
   "outputs": [],
   "source": [
    "X = 0\n",
    "def fibonacci(n):\n",
    "    \n",
    "    if n == 0:\n",
    "        return 0\n",
    "    elif n == 1 :\n",
    "        return 1\n",
    "    else :\n",
    "        return fibonacci(n-1) + fibonacci(n-2)\n",
    "    \n",
    "\n",
    "\n"
   ]
  },
  {
   "cell_type": "code",
   "execution_count": null,
   "metadata": {},
   "outputs": [],
   "source": []
  },
  {
   "cell_type": "code",
   "execution_count": 19,
   "metadata": {},
   "outputs": [
    {
     "data": {
      "text/plain": [
       "Text(0, 0.5, 'Execution time in sec')"
      ]
     },
     "execution_count": 19,
     "metadata": {},
     "output_type": "execute_result"
    },
    {
     "data": {
      "image/png": "[encoded data removed]",
      "text/plain": [
       "<Figure size 640x480 with 1 Axes>"
      ]
     },
     "metadata": {},
     "output_type": "display_data"
    }
   ],
   "source": [
    "fib_time = []\n",
    "\n",
    "\n",
    "\n",
    "for k in range(1,30):\n",
    "    start_time = time.time()\n",
    "    fibonacci(k)\n",
    "    final = time.time()-start_time\n",
    "    fib_time.append(final)\n",
    "\n",
    "\n",
    "\n",
    "x_f = list(range(1,30))\n",
    "\n",
    "plt.plot(x_f,fib_time)\n",
    "plt.xlabel('Size of n')\n",
    "plt.ylabel('Execution time in sec')"
   ]
  },
  {
   "attachments": {},
   "cell_type": "markdown",
   "metadata": {},
   "source": [
    "Exponential complexity"
   ]
  },
  {
   "attachments": {},
   "cell_type": "markdown",
   "metadata": {},
   "source": [
    "\n",
    "### Factorial complexity\n",
    "\n",
    "Consider the following code:\n",
    "\n",
    "```Python\n",
    "\n",
    "def heap_permutation(data, n):\n",
    "    if n == 1:\n",
    "        print(data)\n",
    "        return\n",
    "    \n",
    "    for i in range(n):\n",
    "        heap_permutation(data, n - 1)\n",
    "        if n % 2 == 0:\n",
    "            data[i], data[n-1] = data[n-1], data[i]\n",
    "        else:\n",
    "            data[0], data[n-1] = data[n-1], data[0]\n",
    "            ```\n",
    "            \n",
    "What is this code doing ? Evaluate its complexity.            "
   ]
  },
  {
   "attachments": {},
   "cell_type": "markdown",
   "metadata": {},
   "source": [
    "This function list all the possible permutation of a list 'data'\n",
    "The Heap permutation has a complexity of n!"
   ]
  },
  {
   "cell_type": "code",
   "execution_count": 20,
   "metadata": {},
   "outputs": [
    {
     "name": "stdout",
     "output_type": "stream",
     "text": [
      "[0, 1, 2]\n",
      "[1, 0, 2]\n",
      "[2, 0, 1]\n",
      "[0, 2, 1]\n",
      "[1, 2, 0]\n",
      "[2, 1, 0]\n"
     ]
    }
   ],
   "source": [
    "def heap_permutation(data, n):\n",
    "    if n == 1:\n",
    "        print(data)\n",
    "        return\n",
    "    \n",
    "    for i in range(n):\n",
    "        heap_permutation(data, n - 1)\n",
    "        if n % 2 == 0:\n",
    "            data[i], data[n-1] = data[n-1], data[i]\n",
    "        else:\n",
    "            data[0], data[n-1] = data[n-1], data[0]\n",
    "\n",
    "\n",
    "A = list(range(3))\n",
    "heap_permutation(A,len(A))   "
   ]
  },
  {
   "cell_type": "code",
   "execution_count": 21,
   "metadata": {},
   "outputs": [
    {
     "data": {
      "text/plain": [
       "3628800"
      ]
     },
     "execution_count": 21,
     "metadata": {},
     "output_type": "execute_result"
    }
   ],
   "source": [
    "10*9*8*7*6*5*4*3*2"
   ]
  },
  {
   "cell_type": "markdown",
   "metadata": {},
   "source": [
    "## Exercises"
   ]
  },
  {
   "cell_type": "markdown",
   "metadata": {},
   "source": [
    "### Exercise 1\n",
    "\n",
    "Program and compare the running time of the fast powering algorithm and the naive power algorithm (see Recitation 2)"
   ]
  },
  {
   "cell_type": "code",
   "execution_count": 22,
   "metadata": {},
   "outputs": [
    {
     "name": "stdout",
     "output_type": "stream",
     "text": [
      "16\n",
      "16\n"
     ]
    }
   ],
   "source": [
    "def naive_power_i(x,n):\n",
    "    r = 1\n",
    "    for k in range(n):\n",
    "        r = r*x\n",
    "    return r\n",
    "\n",
    "def naive_power(x,n):\n",
    "    if n == 0:\n",
    "        return 1\n",
    "    else:\n",
    "        return naive_power(x,n-1) * x\n",
    "\n",
    "def fast_power(a,n):\n",
    "    r=1\n",
    "    while n > 0 :\n",
    "        if n%2 == 0:\n",
    "            a = a*a\n",
    "            n = n //2\n",
    "        else :\n",
    "            r = r*a\n",
    "            n = n -1\n",
    "\n",
    "    return r\n",
    "\n",
    "print(naive_power_i(2,4))  \n",
    "print(fast_power(2,4))"
   ]
  },
  {
   "cell_type": "code",
   "execution_count": 23,
   "metadata": {},
   "outputs": [
    {
     "name": "stdout",
     "output_type": "stream",
     "text": [
      "Max time for naive : 0.401958703994751\n",
      "Max time for fast : 0.001054525375366211\n",
      "Difference : 0.40090417861938477\n",
      "Percentage : 99.73765330495742 %\n"
     ]
    },
    {
     "data": {
      "text/plain": [
       "Text(0, 0.5, 'Execution time in sec')"
      ]
     },
     "execution_count": 23,
     "metadata": {},
     "output_type": "execute_result"
    },
    {
     "data": {
      "image/png": "[encoded data removed]",
      "text/plain": [
       "<Figure size 640x480 with 1 Axes>"
      ]
     },
     "metadata": {},
     "output_type": "display_data"
    }
   ],
   "source": [
    "import time\n",
    "import matplotlib.pyplot as plt\n",
    "\n",
    "fast_time = []\n",
    "naive_time =[]\n",
    "s = 100\n",
    "n = s + 1500\n",
    "\n",
    "for k in range(s,n):\n",
    "\n",
    "    start_time = time.time()\n",
    "    naive_power(10000,k)\n",
    "    final = time.time()-start_time\n",
    "    naive_time.append(final)\n",
    "\n",
    "\n",
    "\n",
    "for k in range(s,n):\n",
    "\n",
    "    start_time = time.time()\n",
    "    fast_power(10000,k)\n",
    "    final = time.time()-start_time\n",
    "    fast_time.append(final)\n",
    "\n",
    "\n",
    "print(\"Max time for naive :\",max(naive_time))\n",
    "print(\"Max time for fast :\",max(fast_time))\n",
    "print(\"Difference :\",max(naive_time)-max(fast_time))\n",
    "print(\"Percentage :\",100-(max(fast_time)/max(naive_time))*100,\"%\")\n",
    "\n",
    "\n",
    "x = list(range(s,n))\n",
    "\n",
    "plt.plot(x,fast_time)\n",
    "\n",
    "plt.plot(x,naive_time)\n",
    "plt.xlabel('Size of the array')\n",
    "plt.ylabel('Execution time in sec')"
   ]
  },
  {
   "cell_type": "markdown",
   "metadata": {},
   "source": [
    "### Exercise 2\n",
    "\n",
    "Implement Quick sort algorithm (see https://www.khanacademy.org/computing/computer-science/algorithms/quick-sort/a/analysis-of-quicksort) and compare its running time with Merge sort on different examples of random arrays"
   ]
  },
  {
   "cell_type": "code",
   "execution_count": 28,
   "metadata": {},
   "outputs": [],
   "source": [
    "def partition(list,g,d):\n",
    "    pivot=list[g]\n",
    "    i=g+1\n",
    "    j=d\n",
    "    while i<=j:\n",
    "        while i<len(list) and list[i]<=pivot:\n",
    "            i=i+1\n",
    "        while list[j]>pivot:\n",
    "            j=j-1\n",
    "        if i<j:\n",
    "            list[i],list[j]=list[j],list[i]\n",
    "            i=i+1\n",
    "            j=j-1\n",
    "    list[g],list[j]=list[j],list[g]\n",
    "    return j\n",
    "\n",
    "def quick_sort(list,g,d):\n",
    "    if g<d:\n",
    "        j=partition(list,g,d)\n",
    "        quick_sort(list,g,j-1)\n",
    "        quick_sort(list,j+1,d)\n",
    "    return list\n"
   ]
  },
  {
   "cell_type": "code",
   "execution_count": 29,
   "metadata": {},
   "outputs": [
    {
     "name": "stdout",
     "output_type": "stream",
     "text": [
      "[1, 2, 3, 4, 5, 6]\n"
     ]
    }
   ],
   "source": [
    "A = [4,5,6,2,1,3]\n",
    "print(quick_sort(A,0,5))"
   ]
  },
  {
   "attachments": {},
   "cell_type": "markdown",
   "metadata": {},
   "source": [
    "### Exercise 3\n",
    "\n",
    "Implement a function that compute the product of two $n\\times n$ matrices using the naive algorithm introduced in linear algebra class. Then implement Strassen algorithm as given in Recitation 2. Generate some random $n\\times n$ matrices and find out for which value of $n$, Strassen algorithm is better that the naive algorithm."
   ]
  },
  {
   "cell_type": "code",
   "execution_count": 31,
   "metadata": {},
   "outputs": [],
   "source": [
    "def matrix_product(m1,m2):\n",
    "    m = []\n",
    "    if len(m1[0]) != len(m2):\n",
    "        print(\"Product not possible\")\n",
    "        return False\n",
    "    for i in range(len(m1)):\n",
    "        line = []\n",
    "        for j in range(len(m2[0])):\n",
    "            element = 0\n",
    "            for k in range(len(m1[0])):\n",
    "                element = element + m1[i][k] * m2[k][j]\n",
    "            line.append(element)\n",
    "        m.append(line)\n",
    "    return m"
   ]
  },
  {
   "cell_type": "code",
   "execution_count": 32,
   "metadata": {},
   "outputs": [
    {
     "name": "stdout",
     "output_type": "stream",
     "text": [
      "[[0, 0, 0], [9, 8, 4], [9, 8, 4]]\n"
     ]
    }
   ],
   "source": [
    "m1 = [[0,0,0],[2,1,1],[2,1,1]]\n",
    "m2 = [[3,2,1],[3,3,0],[0,1,2]]\n",
    "\n",
    "print(matrix_product(m1,m2))"
   ]
  },
  {
   "cell_type": "code",
   "execution_count": 33,
   "metadata": {},
   "outputs": [],
   "source": [
    "def strassen(A, B):\n",
    "    n = len(A)\n",
    "\n",
    "    # Cas de base\n",
    "    if n == 1:\n",
    "        return [[A[0][0] * B[0][0]]]\n",
    "\n",
    "    # Diviser les matrices en sous-matrices de taille n/2\n",
    "    mid = n // 2\n",
    "    A11 = [A[i][:mid] for i in range(mid)]\n",
    "    A12 = [A[i][mid:] for i in range(mid)]\n",
    "    A21 = [A[i][:mid] for i in range(mid, n)]\n",
    "    A22 = [A[i][mid:] for i in range(mid, n)]\n",
    "    B11 = [B[i][:mid] for i in range(mid)]\n",
    "    B12 = [B[i][mid:] for i in range(mid)]\n",
    "    B21 = [B[i][:mid] for i in range(mid, n)]\n",
    "    B22 = [B[i][mid:] for i in range(mid, n)]\n",
    "\n",
    "    # Calcul des 7 produits de Strassen\n",
    "    P1 = strassen(A11, sub(B12, B22))\n",
    "    P2 = strassen(add(A11, A12), B22)\n",
    "    P3 = strassen(add(A21, A22), B11)\n",
    "    P4 = strassen(A22, sub(B21, B11))\n",
    "    P5 = strassen(add(A11, A22), add(B11, B22))\n",
    "    P6 = strassen(sub(A12, A22), add(B21, B22))\n",
    "    P7 = strassen(sub(A11, A21), add(B11, B12))\n",
    "\n",
    "    # Calcul des sous-matrices du résultat\n",
    "    C11 = add(sub(add(P5, P4), P2), P6)\n",
    "    C12 = add(P1, P2)\n",
    "    C21 = add(P3, P4)\n",
    "    C22 = add(sub(add(P5, P1), P3), P7)\n",
    "\n",
    "    # Assembler les sous-matrices en une seule matrice\n",
    "    C = [[0] * n for i in range(n)]\n",
    "    for i in range(mid):\n",
    "        for j in range(mid):\n",
    "            C[i][j] = C11[i][j]\n",
    "            C[i][j + mid] = C12[i][j]\n",
    "            C[i + mid][j] = C21[i][j]\n",
    "            C[i + mid][j + mid] = C22[i][j]\n",
    "\n",
    "    return C\n",
    "\n",
    "# Fonctions auxiliaires\n",
    "def add(A, B):\n",
    "    return [[A[i][j] + B[i][j] for j in range(len(A))] for i in range(len(A))]\n",
    "\n",
    "def sub(A, B):\n",
    "    return [[A[i][j] - B[i][j] for j in range(len(A))] for i in range(len(A))]"
   ]
  },
  {
   "cell_type": "code",
   "execution_count": 34,
   "metadata": {},
   "outputs": [
    {
     "name": "stdout",
     "output_type": "stream",
     "text": [
      "[[0, 0, 0], [9, 8, 4], [9, 8, 4]]\n"
     ]
    },
    {
     "ename": "IndexError",
     "evalue": "list index out of range",
     "output_type": "error",
     "traceback": [
      "\u001b[1;31m---------------------------------------------------------------------------\u001b[0m",
      "\u001b[1;31mIndexError\u001b[0m                                Traceback (most recent call last)",
      "Cell \u001b[1;32mIn[34], line 5\u001b[0m\n\u001b[0;32m      2\u001b[0m m2 \u001b[39m=\u001b[39m [[\u001b[39m3\u001b[39m,\u001b[39m2\u001b[39m,\u001b[39m1\u001b[39m],[\u001b[39m3\u001b[39m,\u001b[39m3\u001b[39m,\u001b[39m0\u001b[39m],[\u001b[39m0\u001b[39m,\u001b[39m1\u001b[39m,\u001b[39m2\u001b[39m]]\n\u001b[0;32m      4\u001b[0m \u001b[39mprint\u001b[39m(matrix_product(m1,m2))\n\u001b[1;32m----> 5\u001b[0m \u001b[39mprint\u001b[39m(strassen(m1,m2))\n",
      "Cell \u001b[1;32mIn[33], line 22\u001b[0m, in \u001b[0;36mstrassen\u001b[1;34m(A, B)\u001b[0m\n\u001b[0;32m     20\u001b[0m P1 \u001b[39m=\u001b[39m strassen(A11, sub(B12, B22))\n\u001b[0;32m     21\u001b[0m P2 \u001b[39m=\u001b[39m strassen(add(A11, A12), B22)\n\u001b[1;32m---> 22\u001b[0m P3 \u001b[39m=\u001b[39m strassen(add(A21, A22), B11)\n\u001b[0;32m     23\u001b[0m P4 \u001b[39m=\u001b[39m strassen(A22, sub(B21, B11))\n\u001b[0;32m     24\u001b[0m P5 \u001b[39m=\u001b[39m strassen(add(A11, A22), add(B11, B22))\n",
      "Cell \u001b[1;32mIn[33], line 47\u001b[0m, in \u001b[0;36madd\u001b[1;34m(A, B)\u001b[0m\n\u001b[0;32m     46\u001b[0m \u001b[39mdef\u001b[39;00m \u001b[39madd\u001b[39m(A, B):\n\u001b[1;32m---> 47\u001b[0m     \u001b[39mreturn\u001b[39;00m [[A[i][j] \u001b[39m+\u001b[39m B[i][j] \u001b[39mfor\u001b[39;00m j \u001b[39min\u001b[39;00m \u001b[39mrange\u001b[39m(\u001b[39mlen\u001b[39m(A))] \u001b[39mfor\u001b[39;00m i \u001b[39min\u001b[39;00m \u001b[39mrange\u001b[39m(\u001b[39mlen\u001b[39m(A))]\n",
      "Cell \u001b[1;32mIn[33], line 47\u001b[0m, in \u001b[0;36m<listcomp>\u001b[1;34m(.0)\u001b[0m\n\u001b[0;32m     46\u001b[0m \u001b[39mdef\u001b[39;00m \u001b[39madd\u001b[39m(A, B):\n\u001b[1;32m---> 47\u001b[0m     \u001b[39mreturn\u001b[39;00m [[A[i][j] \u001b[39m+\u001b[39m B[i][j] \u001b[39mfor\u001b[39;00m j \u001b[39min\u001b[39;00m \u001b[39mrange\u001b[39m(\u001b[39mlen\u001b[39m(A))] \u001b[39mfor\u001b[39;00m i \u001b[39min\u001b[39;00m \u001b[39mrange\u001b[39m(\u001b[39mlen\u001b[39m(A))]\n",
      "Cell \u001b[1;32mIn[33], line 47\u001b[0m, in \u001b[0;36m<listcomp>\u001b[1;34m(.0)\u001b[0m\n\u001b[0;32m     46\u001b[0m \u001b[39mdef\u001b[39;00m \u001b[39madd\u001b[39m(A, B):\n\u001b[1;32m---> 47\u001b[0m     \u001b[39mreturn\u001b[39;00m [[A[i][j] \u001b[39m+\u001b[39m B[i][j] \u001b[39mfor\u001b[39;00m j \u001b[39min\u001b[39;00m \u001b[39mrange\u001b[39m(\u001b[39mlen\u001b[39m(A))] \u001b[39mfor\u001b[39;00m i \u001b[39min\u001b[39;00m \u001b[39mrange\u001b[39m(\u001b[39mlen\u001b[39m(A))]\n",
      "\u001b[1;31mIndexError\u001b[0m: list index out of range"
     ]
    }
   ],
   "source": [
    "m1 = [[0,0,0],[2,1,1],[2,1,1]]\n",
    "m2 = [[3,2,1],[3,3,0],[0,1,2]]\n",
    "\n",
    "print(matrix_product(m1,m2))\n",
    "print(strassen(m1,m2))"
   ]
  },
  {
   "cell_type": "code",
   "execution_count": null,
   "metadata": {},
   "outputs": [],
   "source": []
  }
 ],
 "metadata": {
  "kernelspec": {
   "display_name": "Python 3",
   "language": "python",
   "name": "python3"
  },
  "language_info": {
   "codemirror_mode": {
    "name": "ipython",
    "version": 3
   },
   "file_extension": ".py",
   "mimetype": "text/x-python",
   "name": "python",
   "nbconvert_exporter": "python",
   "pygments_lexer": "ipython3",
   "version": "3.10.10"
  }
 },
 "nbformat": 4,
 "nbformat_minor": 4
}
